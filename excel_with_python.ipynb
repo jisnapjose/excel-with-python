{
  "nbformat": 4,
  "nbformat_minor": 0,
  "metadata": {
    "colab": {
      "name": "excel  with python.ipynb",
      "provenance": [],
      "collapsed_sections": []
    },
    "kernelspec": {
      "name": "python3",
      "display_name": "Python 3"
    },
    "language_info": {
      "name": "python"
    }
  },
  "cells": [
    {
      "cell_type": "code",
      "execution_count": null,
      "metadata": {
        "id": "5lcT00g7_-ES"
      },
      "outputs": [],
      "source": [
        "import matplotlib.pyplot as plt\n",
        "import numpy as np"
      ]
    },
    {
      "cell_type": "code",
      "source": [
        "x=np.array([1,2,3,4,5])\n",
        "y=np.array([7,14,15,18,21])"
      ],
      "metadata": {
        "id": "XQ_cZiUMCQW7"
      },
      "execution_count": null,
      "outputs": []
    },
    {
      "cell_type": "code",
      "source": [
        "x1=np.mean(x)\n",
        "print(x1)"
      ],
      "metadata": {
        "colab": {
          "base_uri": "https://localhost:8080/"
        },
        "id": "R3hhqqezD8wE",
        "outputId": "18b04da2-672c-4198-cf92-f76e82a6a30c"
      },
      "execution_count": null,
      "outputs": [
        {
          "output_type": "stream",
          "name": "stdout",
          "text": [
            "3.0\n"
          ]
        }
      ]
    },
    {
      "cell_type": "code",
      "source": [
        "y1=np.mean(y)\n",
        "print(y1)"
      ],
      "metadata": {
        "colab": {
          "base_uri": "https://localhost:8080/"
        },
        "id": "LOHQTffnE-Ua",
        "outputId": "5f0856f1-8fff-4516-9d50-44d7d95785db"
      },
      "execution_count": null,
      "outputs": [
        {
          "output_type": "stream",
          "name": "stdout",
          "text": [
            "15.0\n"
          ]
        }
      ]
    },
    {
      "cell_type": "code",
      "source": [
        "p=(x-x1)*(y-y1)\n",
        "num=sum(p)\n",
        "print(num)"
      ],
      "metadata": {
        "colab": {
          "base_uri": "https://localhost:8080/"
        },
        "id": "w-kzBltwG5oA",
        "outputId": "30f756f5-87b4-4032-8277-2095c74ae6f1"
      },
      "execution_count": null,
      "outputs": [
        {
          "output_type": "stream",
          "name": "stdout",
          "text": [
            "32.0\n"
          ]
        }
      ]
    },
    {
      "cell_type": "code",
      "source": [
        "p1=(x-x1)*(x-x1)\n",
        "num1=sum(p1)\n",
        "print(num1)"
      ],
      "metadata": {
        "colab": {
          "base_uri": "https://localhost:8080/"
        },
        "id": "S35fVpa-HNmr",
        "outputId": "d31800ce-976a-4aa1-8277-20c2d91c9a32"
      },
      "execution_count": null,
      "outputs": [
        {
          "output_type": "stream",
          "name": "stdout",
          "text": [
            "10.0\n"
          ]
        }
      ]
    },
    {
      "cell_type": "code",
      "source": [
        "m=num/num1\n",
        "print(m)"
      ],
      "metadata": {
        "id": "phfD0tlxK0eh",
        "colab": {
          "base_uri": "https://localhost:8080/"
        },
        "outputId": "c15933b1-02d4-4658-8c95-c024680b5442"
      },
      "execution_count": null,
      "outputs": [
        {
          "output_type": "stream",
          "name": "stdout",
          "text": [
            "2.3531468531468533\n"
          ]
        }
      ]
    },
    {
      "cell_type": "code",
      "source": [
        "c=y1-m*x1\n",
        "print(c)"
      ],
      "metadata": {
        "colab": {
          "base_uri": "https://localhost:8080/"
        },
        "id": "ZzKNUkXUO-pi",
        "outputId": "6ea0e243-c00f-45cf-ae82-da423176f0dd"
      },
      "execution_count": null,
      "outputs": [
        {
          "output_type": "stream",
          "name": "stdout",
          "text": [
            "5.399999999999999\n"
          ]
        }
      ]
    },
    {
      "cell_type": "code",
      "source": [
        "ynew=m*x+c\n",
        "print(ynew)"
      ],
      "metadata": {
        "colab": {
          "base_uri": "https://localhost:8080/"
        },
        "id": "SExkO9h7PFYg",
        "outputId": "995cc342-4741-4d78-c108-bed4622b4840"
      },
      "execution_count": null,
      "outputs": [
        {
          "output_type": "stream",
          "name": "stdout",
          "text": [
            "[ 8.6 11.8 15.  18.2 21.4]\n"
          ]
        }
      ]
    },
    {
      "cell_type": "code",
      "source": [
        "plt.scatter(x,y)"
      ],
      "metadata": {
        "colab": {
          "base_uri": "https://localhost:8080/",
          "height": 282
        },
        "id": "Gf58P9DeQhtq",
        "outputId": "167871e4-138c-4db0-9d68-8399f38ec444"
      },
      "execution_count": null,
      "outputs": [
        {
          "output_type": "execute_result",
          "data": {
            "text/plain": [
              "<matplotlib.collections.PathCollection at 0x7ff7fd6d0350>"
            ]
          },
          "metadata": {},
          "execution_count": 20
        },
        {
          "output_type": "display_data",
          "data": {
            "text/plain": [
              "<Figure size 432x288 with 1 Axes>"
            ],
            "image/png": "[encoded data removed]"
          },
          "metadata": {
            "needs_background": "light"
          }
        }
      ]
    },
    {
      "cell_type": "code",
      "source": [
        "plt.scatter(x,y)\n",
        "plt.plot(x,ynew)"
      ],
      "metadata": {
        "colab": {
          "base_uri": "https://localhost:8080/",
          "height": 285
        },
        "id": "CLpIlYbkRQWJ",
        "outputId": "45adecf8-28b1-4dc8-805c-85678d3b59df"
      },
      "execution_count": null,
      "outputs": [
        {
          "output_type": "execute_result",
          "data": {
            "text/plain": [
              "[<matplotlib.lines.Line2D at 0x7ff7fd6f5050>]"
            ]
          },
          "metadata": {},
          "execution_count": 22
        },
        {
          "output_type": "display_data",
          "data": {
            "text/plain": [
              "<Figure size 432x288 with 1 Axes>"
            ],
            "image/png": "[encoded data removed]"
          },
          "metadata": {
            "needs_background": "light"
          }
        }
      ]
    },
    {
      "cell_type": "code",
      "source": [
        "import numpy as np"
      ],
      "metadata": {
        "id": "YvYZghTRKI66"
      },
      "execution_count": null,
      "outputs": []
    },
    {
      "cell_type": "code",
      "source": [
        "a=np.array([1,2,3,4,5,6,7,8,9,10,11,12])\n",
        "b=np.array([115,119,146,153,142,143,170,162,167,156,149,131])"
      ],
      "metadata": {
        "id": "7H8nhTcVSDxQ"
      },
      "execution_count": null,
      "outputs": []
    },
    {
      "cell_type": "code",
      "source": [
        ""
      ],
      "metadata": {
        "id": "g92HTaXMlPeG"
      },
      "execution_count": null,
      "outputs": []
    },
    {
      "cell_type": "code",
      "source": [
        "a1=np.mean(a)\n",
        "print(a1)"
      ],
      "metadata": {
        "colab": {
          "base_uri": "https://localhost:8080/"
        },
        "id": "0D9vsUG3KCla",
        "outputId": "c691ff8c-8bf9-43e8-c7ed-816fde26c898"
      },
      "execution_count": null,
      "outputs": [
        {
          "output_type": "stream",
          "name": "stdout",
          "text": [
            "6.5\n"
          ]
        }
      ]
    },
    {
      "cell_type": "code",
      "source": [
        "b1=np.mean(b)\n",
        "print(b1)"
      ],
      "metadata": {
        "colab": {
          "base_uri": "https://localhost:8080/"
        },
        "id": "YWUvOrEQKS-y",
        "outputId": "d5173280-1b2d-44d9-83b1-4a01eb957756"
      },
      "execution_count": null,
      "outputs": [
        {
          "output_type": "stream",
          "name": "stdout",
          "text": [
            "146.08333333333334\n"
          ]
        }
      ]
    },
    {
      "cell_type": "code",
      "source": [
        "p=(a-a1)*(b-b1)\n",
        "num=sum(p)\n",
        "print(num)"
      ],
      "metadata": {
        "colab": {
          "base_uri": "https://localhost:8080/"
        },
        "id": "i6AheD9ZKYIK",
        "outputId": "08b2659e-85e1-4c05-9945-f317059029ce"
      },
      "execution_count": null,
      "outputs": [
        {
          "output_type": "stream",
          "name": "stdout",
          "text": [
            "336.5\n"
          ]
        }
      ]
    },
    {
      "cell_type": "code",
      "source": [
        "p1=(a-a1)*(a-a1)\n",
        "num1=sum(p1)\n",
        "print(num1)"
      ],
      "metadata": {
        "colab": {
          "base_uri": "https://localhost:8080/"
        },
        "id": "mYexaCBiKljM",
        "outputId": "4ef7efeb-1acf-40ab-c367-a354149330e9"
      },
      "execution_count": null,
      "outputs": [
        {
          "output_type": "stream",
          "name": "stdout",
          "text": [
            "143.0\n"
          ]
        }
      ]
    },
    {
      "cell_type": "code",
      "source": [
        "m=num/num1"
      ],
      "metadata": {
        "id": "bP-_susyKp2j"
      },
      "execution_count": null,
      "outputs": []
    },
    {
      "cell_type": "code",
      "source": [
        "c=b1-m*a1\n",
        "print(c)"
      ],
      "metadata": {
        "colab": {
          "base_uri": "https://localhost:8080/"
        },
        "id": "3fO0VjPfKt-J",
        "outputId": "9ef610f3-934d-4d39-ff75-d747dbe9346d"
      },
      "execution_count": null,
      "outputs": [
        {
          "output_type": "stream",
          "name": "stdout",
          "text": [
            "130.7878787878788\n"
          ]
        }
      ]
    },
    {
      "cell_type": "code",
      "source": [
        "ynew=m*a+c\n",
        "print(ynew)"
      ],
      "metadata": {
        "colab": {
          "base_uri": "https://localhost:8080/"
        },
        "id": "IuJwU2WlKzup",
        "outputId": "92c6e8ef-b11e-4b50-a3fe-6a9167ed9db7"
      },
      "execution_count": null,
      "outputs": [
        {
          "output_type": "stream",
          "name": "stdout",
          "text": [
            "[133.14102564 135.49417249 137.84731935 140.2004662  142.55361305\n",
            " 144.90675991 147.25990676 149.61305361 151.96620047 154.31934732\n",
            " 156.67249417 159.02564103]\n"
          ]
        }
      ]
    },
    {
      "cell_type": "code",
      "source": [
        "import matplotlib.pyplot as plt"
      ],
      "metadata": {
        "id": "7JQL8DFlK5Gx"
      },
      "execution_count": null,
      "outputs": []
    },
    {
      "cell_type": "code",
      "source": [
        "plt.scatter(a,b)"
      ],
      "metadata": {
        "colab": {
          "base_uri": "https://localhost:8080/",
          "height": 282
        },
        "id": "KUYrkzHFK-16",
        "outputId": "6bdcbf89-a16f-4691-ed00-42f182a39797"
      },
      "execution_count": null,
      "outputs": [
        {
          "output_type": "execute_result",
          "data": {
            "text/plain": [
              "<matplotlib.collections.PathCollection at 0x7f315c118190>"
            ]
          },
          "metadata": {},
          "execution_count": 13
        },
        {
          "output_type": "display_data",
          "data": {
            "text/plain": [
              "<Figure size 432x288 with 1 Axes>"
            ],
            "image/png": "[encoded data removed]"
          },
          "metadata": {
            "needs_background": "light"
          }
        }
      ]
    },
    {
      "cell_type": "code",
      "source": [
        "plt.scatter(a,b)\n",
        "plt.plot(a,ynew)"
      ],
      "metadata": {
        "colab": {
          "base_uri": "https://localhost:8080/",
          "height": 282
        },
        "id": "fX5k_b1KLCtJ",
        "outputId": "233e5f4d-cf89-403b-ddf7-81647406bb4b"
      },
      "execution_count": null,
      "outputs": [
        {
          "output_type": "execute_result",
          "data": {
            "text/plain": [
              "[<matplotlib.lines.Line2D at 0x7f315bbfa550>]"
            ]
          },
          "metadata": {},
          "execution_count": 14
        },
        {
          "output_type": "display_data",
          "data": {
            "text/plain": [
              "<Figure size 432x288 with 1 Axes>"
            ],
            "image/png": "[encoded data removed]"
          },
          "metadata": {
            "needs_background": "light"
          }
        }
      ]
    },
    {
      "cell_type": "code",
      "source": [
        "import numpy as np"
      ],
      "metadata": {
        "id": "nQcUHbY_LIca"
      },
      "execution_count": 1,
      "outputs": []
    },
    {
      "cell_type": "code",
      "source": [
        "x=np.array([1,2,3,4,5,6,7,8,9,10])\n",
        "y=np.array([1631,1677,1665,1700,1714,1657,1567,1987,1456,1675])"
      ],
      "metadata": {
        "id": "A7F55dEJlAto"
      },
      "execution_count": 26,
      "outputs": []
    },
    {
      "cell_type": "code",
      "source": [
        "n = np.size(x)"
      ],
      "metadata": {
        "id": "wjVvV6BwlrSU"
      },
      "execution_count": 27,
      "outputs": []
    },
    {
      "cell_type": "code",
      "source": [
        "n"
      ],
      "metadata": {
        "colab": {
          "base_uri": "https://localhost:8080/"
        },
        "id": "n7jnGixYlsRD",
        "outputId": "46cad604-61ef-48d3-e72e-700179dc98c4"
      },
      "execution_count": 28,
      "outputs": [
        {
          "output_type": "execute_result",
          "data": {
            "text/plain": [
              "10"
            ]
          },
          "metadata": {},
          "execution_count": 28
        }
      ]
    },
    {
      "cell_type": "code",
      "source": [
        "x_mean = np.mean(x)\n",
        "y_mean = np.mean(y)\n",
        "x_mean,y_mean"
      ],
      "metadata": {
        "colab": {
          "base_uri": "https://localhost:8080/"
        },
        "id": "fKEsm_c8l0ar",
        "outputId": "4e8d757c-4dc1-41d4-e792-dad23e98f5dc"
      },
      "execution_count": 29,
      "outputs": [
        {
          "output_type": "execute_result",
          "data": {
            "text/plain": [
              "(5.5, 1672.9)"
            ]
          },
          "metadata": {},
          "execution_count": 29
        }
      ]
    },
    {
      "cell_type": "code",
      "source": [
        "num = (n*np.sum(x*y))-(np.sum(x)*np.sum(y))"
      ],
      "metadata": {
        "id": "t_rmlfsfl3mv"
      },
      "execution_count": 30,
      "outputs": []
    },
    {
      "cell_type": "code",
      "source": [
        "num"
      ],
      "metadata": {
        "colab": {
          "base_uri": "https://localhost:8080/"
        },
        "id": "tBPCizH2l7vH",
        "outputId": "8549a2fb-598c-43b9-816e-f890ff0f8b1f"
      },
      "execution_count": 31,
      "outputs": [
        {
          "output_type": "execute_result",
          "data": {
            "text/plain": [
              "15"
            ]
          },
          "metadata": {},
          "execution_count": 31
        }
      ]
    },
    {
      "cell_type": "code",
      "source": [
        "den= (n*np.sum(x*x))- (np.sum(x)*np.sum(x))"
      ],
      "metadata": {
        "id": "dEQkA65Hl9po"
      },
      "execution_count": 32,
      "outputs": []
    },
    {
      "cell_type": "code",
      "source": [
        "m=num/den"
      ],
      "metadata": {
        "id": "_VIS-DEOmNZ1"
      },
      "execution_count": 33,
      "outputs": []
    },
    {
      "cell_type": "code",
      "source": [
        "m"
      ],
      "metadata": {
        "colab": {
          "base_uri": "https://localhost:8080/"
        },
        "id": "Uv80Yo2LmSss",
        "outputId": "4d69b7d9-d2ec-4a75-ea5b-0d966f50a944"
      },
      "execution_count": 34,
      "outputs": [
        {
          "output_type": "execute_result",
          "data": {
            "text/plain": [
              "0.01818181818181818"
            ]
          },
          "metadata": {},
          "execution_count": 34
        }
      ]
    },
    {
      "cell_type": "code",
      "source": [
        "c=y_mean-m*x_mean"
      ],
      "metadata": {
        "id": "tWbDG-4-mTZ0"
      },
      "execution_count": 35,
      "outputs": []
    },
    {
      "cell_type": "code",
      "source": [
        "c"
      ],
      "metadata": {
        "colab": {
          "base_uri": "https://localhost:8080/"
        },
        "id": "PjN-AJbYmXys",
        "outputId": "609be5d4-8a0d-4556-ad9c-db3842a6d55f"
      },
      "execution_count": 36,
      "outputs": [
        {
          "output_type": "execute_result",
          "data": {
            "text/plain": [
              "1672.8000000000002"
            ]
          },
          "metadata": {},
          "execution_count": 36
        }
      ]
    },
    {
      "cell_type": "code",
      "source": [
        "ynew=m*x+c"
      ],
      "metadata": {
        "id": "bxnEu1E4mbJE"
      },
      "execution_count": 37,
      "outputs": []
    },
    {
      "cell_type": "code",
      "source": [
        "ynew"
      ],
      "metadata": {
        "colab": {
          "base_uri": "https://localhost:8080/"
        },
        "id": "NZMFYRs0mek1",
        "outputId": "cb621ddd-b0cf-4c15-b295-27e943de19cb"
      },
      "execution_count": 38,
      "outputs": [
        {
          "output_type": "execute_result",
          "data": {
            "text/plain": [
              "array([1672.81818182, 1672.83636364, 1672.85454545, 1672.87272727,\n",
              "       1672.89090909, 1672.90909091, 1672.92727273, 1672.94545455,\n",
              "       1672.96363636, 1672.98181818])"
            ]
          },
          "metadata": {},
          "execution_count": 38
        }
      ]
    },
    {
      "cell_type": "code",
      "source": [
        "y"
      ],
      "metadata": {
        "colab": {
          "base_uri": "https://localhost:8080/"
        },
        "id": "ml1-ZmlKmhg6",
        "outputId": "86a55a7b-b49d-4747-9aed-8eb4bfbee6b0"
      },
      "execution_count": 39,
      "outputs": [
        {
          "output_type": "execute_result",
          "data": {
            "text/plain": [
              "array([1631, 1677, 1665, 1700, 1714, 1657, 1567, 1987, 1456, 1675])"
            ]
          },
          "metadata": {},
          "execution_count": 39
        }
      ]
    },
    {
      "cell_type": "code",
      "source": [
        "import matplotlib.pyplot as plt"
      ],
      "metadata": {
        "id": "9Gf0nHpEmopq"
      },
      "execution_count": 40,
      "outputs": []
    },
    {
      "cell_type": "code",
      "source": [
        "plt.scatter(x,y)\n",
        "plt.plot(x,ynew)"
      ],
      "metadata": {
        "colab": {
          "base_uri": "https://localhost:8080/",
          "height": 282
        },
        "id": "10bfPHcInWl1",
        "outputId": "46803571-d01c-4f6d-d37a-6905261baaac"
      },
      "execution_count": 41,
      "outputs": [
        {
          "output_type": "execute_result",
          "data": {
            "text/plain": [
              "[<matplotlib.lines.Line2D at 0x7fc581d45590>]"
            ]
          },
          "metadata": {},
          "execution_count": 41
        },
        {
          "output_type": "display_data",
          "data": {
            "text/plain": [
              "<Figure size 432x288 with 1 Axes>"
            ],
            "image/png": "[encoded data removed]"
          },
          "metadata": {
            "needs_background": "light"
          }
        }
      ]
    },
    {
      "cell_type": "code",
      "source": [
        ""
      ],
      "metadata": {
        "id": "lY5UONitnXc9"
      },
      "execution_count": null,
      "outputs": []
    }
  ]
}